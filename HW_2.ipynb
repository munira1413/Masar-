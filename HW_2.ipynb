{
  "nbformat": 4,
  "nbformat_minor": 0,
  "metadata": {
    "colab": {
      "provenance": [],
      "authorship_tag": "ABX9TyPx1f9oi4Phmld6PLJUyg6M",
      "include_colab_link": true
    },
    "kernelspec": {
      "name": "python3",
      "display_name": "Python 3"
    },
    "language_info": {
      "name": "python"
    }
  },
  "cells": [
    {
      "cell_type": "markdown",
      "metadata": {
        "id": "view-in-github",
        "colab_type": "text"
      },
      "source": [
        "<a href=\"https://colab.research.google.com/github/munira1413/Masar-/blob/main/HW_2.ipynb\" target=\"_parent\"><img src=\"https://colab.research.google.com/assets/colab-badge.svg\" alt=\"Open In Colab\"/></a>"
      ]
    },
    {
      "cell_type": "code",
      "execution_count": null,
      "metadata": {
        "colab": {
          "base_uri": "https://localhost:8080/",
          "height": 140
        },
        "id": "ykCDKJv4jeBP",
        "outputId": "7017a8b8-51ef-4878-bcc6-935ccdfb1874"
      },
      "outputs": [
        {
          "output_type": "error",
          "ename": "IndentationError",
          "evalue": "unindent does not match any outer indentation level (<tokenize>, line 10)",
          "traceback": [
            "\u001b[0;36m  File \u001b[0;32m\"<tokenize>\"\u001b[0;36m, line \u001b[0;32m10\u001b[0m\n\u001b[0;31m    if years>10 and y==\"Excellent\":\u001b[0m\n\u001b[0m    ^\u001b[0m\n\u001b[0;31mIndentationError\u001b[0m\u001b[0;31m:\u001b[0m unindent does not match any outer indentation level\n"
          ]
        }
      ],
      "source": [
        "years=10\n",
        "y=\"evaluation\"\n",
        "\n",
        "if years <= 10 and y==\"Excellent\":\n",
        "  print(\"bonus_percentage = 0.10\")\n",
        "\n",
        "  elif y ==\"Poor\":\n",
        "    print( \"bonus_percentage = 0.05\")\n",
        "\n",
        "   if years>10 and y==\"Excellent\":\n",
        "      print(\"bonus_percentage = 0.20\")\n",
        "\n",
        "      elif y==\"poor\":\n",
        "        print(\"bonus_percentage = 0.15\")\n",
        "\n",
        "        else:\n",
        "        print(\" bonus_percentage = 0\")\n",
        "\n",
        "return bonus_percentage\n",
        "\n",
        "\n",
        "# تعيين القيم\n",
        "employee_years = 8\n",
        "employee_evaluation = \"Excellent\"\n",
        "\n",
        "# حساب المكافأة\n",
        "bonus = calculate_bonus(employee_years, employee_evaluation)\n",
        "\n",
        "# طباعة نتيجة الحساب\n",
        "print(f\"معدل المكافأة: {bonus * 100}%\")"
      ]
    }
  ]
}