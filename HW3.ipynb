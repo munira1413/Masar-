{
  "nbformat": 4,
  "nbformat_minor": 0,
  "metadata": {
    "colab": {
      "provenance": [],
      "authorship_tag": "ABX9TyPjqJJHc/jBKBZZszWsjj1i",
      "include_colab_link": true
    },
    "kernelspec": {
      "name": "python3",
      "display_name": "Python 3"
    },
    "language_info": {
      "name": "python"
    }
  },
  "cells": [
    {
      "cell_type": "markdown",
      "metadata": {
        "id": "view-in-github",
        "colab_type": "text"
      },
      "source": [
        "<a href=\"https://colab.research.google.com/github/munira1413/Masar-/blob/main/HW3.ipynb\" target=\"_parent\"><img src=\"https://colab.research.google.com/assets/colab-badge.svg\" alt=\"Open In Colab\"/></a>"
      ]
    },
    {
      "cell_type": "code",
      "execution_count": null,
      "metadata": {
        "colab": {
          "base_uri": "https://localhost:8080/"
        },
        "id": "Nnq0ykgyjQk0",
        "outputId": "b7bfebdd-a418-472a-ae66-deea70d5ddab"
      },
      "outputs": [
        {
          "output_type": "stream",
          "name": "stdout",
          "text": [
            "\n",
            "* \n",
            "* * \n",
            "* * * \n",
            "* * * * \n",
            "* * * * * \n",
            "* * * * \n",
            "* * * \n",
            "* * \n",
            "* \n"
          ]
        }
      ],
      "source": [
        "#HW3-Q1\n",
        "\n",
        "#نعرف متغير لتحديد الخطوط في الشكل\n",
        "x = 5\n",
        "\n",
        "#xالتكرار  من 0 إلى\n",
        "for i in range(x):\n",
        "\n",
        "    for j in range(i):\n",
        "        # اطبع '*' متبوعه بمسافة بدون سطر جديد\n",
        "        print('* ', end=\"\")\n",
        "    #i انتقل إلى السطر التالي بعد طباعة \"*\" للحرف\n",
        "    print('')\n",
        "\n",
        "# التكرار من إلى  1 مع طرح 1 كل مره\n",
        "for i in range(x, 0, -1):\n",
        "    # iالتكرا من 0 إلى\n",
        "    for j in range(i):\n",
        "        # اطبع '*' متبوعًا بمسافة بدون سطر جديد (end = \" الطباعة في نفس السطر)\n",
        "        print('* ', end=\"\")\n",
        "    # نتقل إلى السطر التالي بعد طباعة  \"*\"\n",
        "    print('')\n"
      ]
    },
    {
      "cell_type": "code",
      "source": [
        "#Q-2\n",
        "def prime(x, y):\n",
        "    prime_list = []\n",
        "    for i in range(x, y):\n",
        "        if i == 0 or i == 1:\n",
        "            continue\n",
        "        else:\n",
        "            for j in range(2, int(i/2)+1):#نشيك هل العدد أولي أو لا\n",
        "                if i % j == 0:\n",
        "                    break\n",
        "            else:\n",
        "                prime_list.append(i)\n",
        "    return prime_list\n",
        "starting_range = 10\n",
        "ending_range = 99\n",
        "lst = prime(starting_range, ending_range)\n",
        "if len(lst) == 0:\n",
        "    print(\"There are no prime numbers in this range\")\n",
        "else:\n",
        "\n",
        " print(\"The prime numbers in this range are: \", lst)\n",
        "\n",
        "count = 0\n",
        "number = 11\n",
        "\n",
        "while count < 3:#يطبع أول ثلاث أرقام بعد ال10\n",
        "    if  (prime):\n",
        "        print(number)\n",
        "        count +=1\n",
        "    number +=1\n"
      ],
      "metadata": {
        "id": "sbJX5SMxRDDh",
        "outputId": "5dc8cedc-7974-475a-9c83-71d6e0099c5d",
        "colab": {
          "base_uri": "https://localhost:8080/"
        }
      },
      "execution_count": 3,
      "outputs": [
        {
          "output_type": "stream",
          "name": "stdout",
          "text": [
            "The prime numbers in this range are:  [11, 13, 17, 19, 23, 29, 31, 37, 41, 43, 47, 53, 59, 61, 67, 71, 73, 79, 83, 89, 97]\n",
            "11\n",
            "12\n",
            "13\n"
          ]
        }
      ]
    }
  ]
}