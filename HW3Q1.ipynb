{
  "nbformat": 4,
  "nbformat_minor": 0,
  "metadata": {
    "colab": {
      "provenance": [],
      "authorship_tag": "ABX9TyMJX+4oXpMgNuYtyMWPrbLk",
      "include_colab_link": true
    },
    "kernelspec": {
      "name": "python3",
      "display_name": "Python 3"
    },
    "language_info": {
      "name": "python"
    }
  },
  "cells": [
    {
      "cell_type": "markdown",
      "metadata": {
        "id": "view-in-github",
        "colab_type": "text"
      },
      "source": [
        "<a href=\"https://colab.research.google.com/github/munira1413/Masar-/blob/main/HW3Q1.ipynb\" target=\"_parent\"><img src=\"https://colab.research.google.com/assets/colab-badge.svg\" alt=\"Open In Colab\"/></a>"
      ]
    },
    {
      "cell_type": "code",
      "execution_count": 1,
      "metadata": {
        "colab": {
          "base_uri": "https://localhost:8080/"
        },
        "id": "Nnq0ykgyjQk0",
        "outputId": "0ab388d9-df2d-44f6-b9b1-09b86ee2fd44"
      },
      "outputs": [
        {
          "output_type": "stream",
          "name": "stdout",
          "text": [
            "\n",
            "* \n",
            "* * \n",
            "* * * \n",
            "* * * * \n",
            "* * * * * \n",
            "* * * * \n",
            "* * * \n",
            "* * \n",
            "* \n"
          ]
        }
      ],
      "source": [
        "#HW3-Q1\n",
        "\n",
        "#نعرف متغير لتحديد الخطوط في الشكل\n",
        "x = 5\n",
        "\n",
        "#xالتكرار  من 0 إلى\n",
        "for i in range(x):\n",
        "\n",
        "    for j in range(i):\n",
        "        # اطبع '*' متبوعه بمسافة بدون سطر جديد\n",
        "        print('* ', end=\"\")\n",
        "    #i انتقل إلى السطر التالي بعد طباعة \"*\" للحرف\n",
        "    print('')\n",
        "\n",
        "# التكرار من إلى  1 مع طرح 1 كل مره\n",
        "for i in range(x, 0, -1):\n",
        "    # iالتكرا من 0 إلى\n",
        "    for j in range(i):\n",
        "        # اطبع '*' متبوعًا بمسافة بدون سطر جديد (end = \"تضمن الطباعة في نفس السطر)\n",
        "        print('* ', end=\"\")\n",
        "    # نتقل إلى السطر التالي بعد طباعة  \"*\"\n",
        "    print('')\n"
      ]
    }
  ]
}