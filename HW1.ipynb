{
  "nbformat": 4,
  "nbformat_minor": 0,
  "metadata": {
    "colab": {
      "provenance": [],
      "authorship_tag": "ABX9TyPyouGuF1ZzcwattmC+qzwW",
      "include_colab_link": true
    },
    "kernelspec": {
      "name": "python3",
      "display_name": "Python 3"
    },
    "language_info": {
      "name": "python"
    }
  },
  "cells": [
    {
      "cell_type": "markdown",
      "metadata": {
        "id": "view-in-github",
        "colab_type": "text"
      },
      "source": [
        "<a href=\"https://colab.research.google.com/github/munira1413/Masar-/blob/main/HW1.ipynb\" target=\"_parent\"><img src=\"https://colab.research.google.com/assets/colab-badge.svg\" alt=\"Open In Colab\"/></a>"
      ]
    },
    {
      "cell_type": "code",
      "execution_count": 3,
      "metadata": {
        "colab": {
          "base_uri": "https://localhost:8080/"
        },
        "id": "ZSkONlBuOBC4",
        "outputId": "1e0bcc91-2b7b-41e5-8414-152c39303062"
      },
      "outputs": [
        {
          "output_type": "stream",
          "name": "stdout",
          "text": [
            "إسمي منيرة سعيدة جدا بلإنضمام لمعسكر مسار وفخورة جدا بنفسي وبإصدقائي وأتمنى بإن نصبح ذات يوم من أفضل المبرمجين على الصعيد العالمي \n"
          ]
        }
      ],
      "source": [
        "#تعريف المتغيرات للإسم والعمر\n",
        "nim=\"منيرة\"\n",
        "age=30\n",
        "#جملة الطباعة\n",
        "print( \"إسمي منيرة سعيدة جدا بلإنضمام لمعسكر مسار وفخورة جدا بنفسي وبإصدقائي وأتمنى بإن نصبح ذات يوم من أفضل المبرمجين على الصعيد العالمي \")"
      ]
    }
  ]
}