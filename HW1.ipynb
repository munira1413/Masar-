{
  "nbformat": 4,
  "nbformat_minor": 0,
  "metadata": {
    "colab": {
      "provenance": [],
      "authorship_tag": "ABX9TyM+u9Qg/oBXtLtwhcdCdizY",
      "include_colab_link": true
    },
    "kernelspec": {
      "name": "python3",
      "display_name": "Python 3"
    },
    "language_info": {
      "name": "python"
    }
  },
  "cells": [
    {
      "cell_type": "markdown",
      "metadata": {
        "id": "view-in-github",
        "colab_type": "text"
      },
      "source": [
        "<a href=\"https://colab.research.google.com/github/munira1413/Masar-/blob/main/HW1.ipynb\" target=\"_parent\"><img src=\"https://colab.research.google.com/assets/colab-badge.svg\" alt=\"Open In Colab\"/></a>"
      ]
    },
    {
      "cell_type": "code",
      "execution_count": 7,
      "metadata": {
        "colab": {
          "base_uri": "https://localhost:8080/"
        },
        "id": "ZSkONlBuOBC4",
        "outputId": "1be98543-9c68-414d-b561-0465670f63ed"
      },
      "outputs": [
        {
          "output_type": "stream",
          "name": "stdout",
          "text": [
            "إسمي منيرةوعمري 30 سعيدة جدا بلإنضمام لمعسكر مسار وفخورة جدا بنفسي وبإصدقائي وأتمنى بإن نصبح ذات يوم من أفضل المبرمجين على الصعيد العالمي \n"
          ]
        }
      ],
      "source": [
        "#تعريف المتغيرات للإسم والعمر\n",
        "nim=\"منيرة\"\n",
        "age=\"30\"\n",
        "#جملة الطباعة\n",
        "print( \"إسمي \"+ nim+\"\"\"وعمري \"\"\"+age+ \" سعيدة جدا بلإنضمام لمعسكر مسار وفخورة جدا بنفسي وبإصدقائي وأتمنى بإن نصبح ذات يوم من أفضل المبرمجين على الصعيد العالمي \")"
      ]
    }
  ]
}