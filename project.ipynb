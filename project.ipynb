{
  "nbformat": 4,
  "nbformat_minor": 0,
  "metadata": {
    "colab": {
      "provenance": [],
      "history_visible": true,
      "authorship_tag": "ABX9TyN62susJ6zNHSltA+CbkMCS",
      "include_colab_link": true
    },
    "kernelspec": {
      "name": "python3",
      "display_name": "Python 3"
    },
    "language_info": {
      "name": "python"
    }
  },
  "cells": [
    {
      "cell_type": "markdown",
      "metadata": {
        "id": "view-in-github",
        "colab_type": "text"
      },
      "source": [
        "<a href=\"https://colab.research.google.com/github/munira1413/Masar-/blob/main/project.ipynb\" target=\"_parent\"><img src=\"https://colab.research.google.com/assets/colab-badge.svg\" alt=\"Open In Colab\"/></a>"
      ]
    },
    {
      "cell_type": "code",
      "execution_count": 5,
      "metadata": {
        "colab": {
          "base_uri": "https://localhost:8080/"
        },
        "id": "lntBDMrgeXfP",
        "outputId": "9996fe49-dc36-43b1-8441-a4efa283c592"
      },
      "outputs": [
        {
          "output_type": "stream",
          "name": "stdout",
          "text": [
            "1\n",
            "2\n",
            "3\n",
            "4\n",
            "5\n",
            "6\n",
            "7\n",
            "8\n",
            "9\n",
            "10\n"
          ]
        }
      ],
      "source": [
        "#Loop - project-Q2\n",
        "\n",
        "i = 1\n",
        "while(i<=10):\n",
        "    print(i)\n",
        "    i += 1"
      ]
    },
    {
      "cell_type": "code",
      "source": [
        "#Loop-project -Q1\n",
        "#عرفنا ال list of nums\n",
        "nums = [229, 792, 857, 579, 974, 346, 649, 454, 698, 347, 236, 297, 150, 698, 294, 663, 556, 712, 271, 283, 705, 347, 725, 716, 486, 642, 644, 728, 409, 208, 421, 799, 52, 796, 441, 374, 60, 948, 143, 698, 934, 561, 917, 678, 666, 476, 23, 743, 836, 655, 971, 372, 215, 567, 462, 127, 208, 683, 618, 96, 329, 92, 934, 992, 120, 944, 605, 78, 87, 216, 62, 919, 462, 597, 671, 493, 540, 451, 885, 375, 606, 90, 607, 443, 240, 708, 674, 111, 165, 858, 799, 39, 383, 602, 695, 689, 726, 344, 2, 335]\n",
        "\n",
        "\n",
        "# لوب يمر على الأرقام في القائمة\n",
        "for x in nums:\n",
        "    if x == 52:\n",
        "        print(x) #إذا وصلنا لل52 نطبعها\n",
        "        break  # نطلع من اللوب إذا وصلنا لل52\n",
        "    elif x % 2 == 0:\n",
        "        print(x)  # نطبع الأرقام إذا كانت الزوجية\n"
      ],
      "metadata": {
        "colab": {
          "base_uri": "https://localhost:8080/"
        },
        "id": "NnDMPIdLfxHh",
        "outputId": "d3645a2f-b38d-4dab-d73b-21e06ee8b044"
      },
      "execution_count": 4,
      "outputs": [
        {
          "output_type": "stream",
          "name": "stdout",
          "text": [
            "792\n",
            "974\n",
            "346\n",
            "454\n",
            "698\n",
            "236\n",
            "150\n",
            "698\n",
            "294\n",
            "556\n",
            "712\n",
            "716\n",
            "486\n",
            "642\n",
            "644\n",
            "728\n",
            "208\n",
            "52\n"
          ]
        }
      ]
    },
    {
      "cell_type": "code",
      "source": [
        "#Function\n",
        "#Q-1-\n",
        "\n",
        "#عرفنا دالة تأخذ المدخلات\n",
        "def unique(list_given):\n",
        "    #  أنشأنا قائمة لتخزين العناصر الجديدة\n",
        "    x = []\n",
        "\n",
        "\n",
        "    for a in l:\n",
        "        # xنتحقق هل العنصر غير موجود في القائمة\n",
        "        if a not in x:\n",
        "            # إذا غير موجود نضيفةللقائمة\n",
        "            x.append(a)\n",
        "\n",
        "    # نرجع القائمة x\n",
        "    return x\n",
        "\n",
        "# نطبع استدعاء الدالة\n",
        "print(unique_list([1, 2, 3, 3, 3, 3, 4, 5]))"
      ],
      "metadata": {
        "colab": {
          "base_uri": "https://localhost:8080/"
        },
        "id": "9Y2xbQ82i6Yq",
        "outputId": "57373347-1e7d-4915-8ed5-a11da000127f"
      },
      "execution_count": 18,
      "outputs": [
        {
          "output_type": "stream",
          "name": "stdout",
          "text": [
            "[1, 2, 3, 4, 5]\n"
          ]
        }
      ]
    },
    {
      "cell_type": "code",
      "source": [
        "#function\n",
        "#Q-2\n",
        "\n",
        "#نقراء المدخلات  من المستخدم\n",
        "n = int(input(\"Enter input number : \"))\n",
        "\n",
        "fact = 1 # نعرف متغير ونعمل لوب نشيك على العناصر المدخلة لوكانت سالبة\n",
        "if n < 0:\n",
        "    print(\"Factorial does not exist for negative numbers\")#يطبع لا يوجد مضروب\n",
        "elif n == 0:#نشيك لو القيمة المدخلة 0 يطبع أن المضروب =1\n",
        "    print(\"The factorial of 0 is 1\")\n",
        "else:\n",
        "    for i in range(1, n + 1):#نشيك لو القيمة المدخلة غير سالبة ولاتساوي الصفر\n",
        "        fact = fact * i#حساب المضروب\n",
        "    print(\"The factorial of\",n,\"is\",fact)#اطبع المضروب"
      ],
      "metadata": {
        "colab": {
          "base_uri": "https://localhost:8080/"
        },
        "id": "nvWlqijypIe3",
        "outputId": "424758ab-8d8e-47c1-f582-65ed9f6650bb"
      },
      "execution_count": 32,
      "outputs": [
        {
          "output_type": "stream",
          "name": "stdout",
          "text": [
            "Enter input number : 7\n",
            "The factorial of 7 is 5040\n"
          ]
        }
      ]
    },
    {
      "cell_type": "code",
      "source": [
        "#Break\n",
        "#Try to run this code\n",
        "\n",
        "def f(x):\n",
        "    if x > 0:\n",
        "        print(\"Only printed when x is positive; x =\", x)\n",
        "        print(\"Also only printed when x is positive; x =\", x)\n",
        "    print(\"Always printed, regardless of x's value; x =\", x)\n",
        "\n",
        "f(1)\n",
        "f(0)\n"
      ],
      "metadata": {
        "colab": {
          "base_uri": "https://localhost:8080/"
        },
        "id": "eB5y9JlxvR9u",
        "outputId": "fc8e22c3-421f-49d0-ccbd-43c79e7df012"
      },
      "execution_count": 33,
      "outputs": [
        {
          "output_type": "stream",
          "name": "stdout",
          "text": [
            "Only printed when x is positive; x = 1\n",
            "Also only printed when x is positive; x = 1\n",
            "Always printed, regardless of x's value; x = 1\n",
            "Always printed, regardless of x's value; x = 0\n"
          ]
        }
      ]
    },
    {
      "cell_type": "code",
      "source": [
        "#using Numpy and zip\n",
        "\n"
      ],
      "metadata": {
        "id": "CAAOj-_HwBeO"
      },
      "execution_count": null,
      "outputs": []
    },
    {
      "cell_type": "code",
      "source": [
        "#Quiz\n",
        "#Python program to print Even Numbers in a List\n",
        "\n",
        "# Initializing list and value\n",
        "list1 =  [1, 2, 3, 4, 5, 6, 7, 8, 9, 10]\n",
        "num = 0\n",
        "\n",
        "# Uing while loop\n",
        "while(num < len(list1)):\n",
        "\n",
        "    # Cecking condition\n",
        "    if list1[num] % 2 == 0:\n",
        "        print(list1 int ([num])^2, end=\" \")\n",
        "\n",
        "    # increment num\n",
        "    num += 1"
      ],
      "metadata": {
        "colab": {
          "base_uri": "https://localhost:8080/"
        },
        "id": "aOZ2C0e4zE3P",
        "outputId": "59fe07dc-30b4-4961-f72f-6ef477f65723"
      },
      "execution_count": 43,
      "outputs": [
        {
          "output_type": "stream",
          "name": "stdout",
          "text": [
            "2 4 6 8 10 "
          ]
        }
      ]
    }
  ]
}