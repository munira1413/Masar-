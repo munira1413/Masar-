{
  "nbformat": 4,
  "nbformat_minor": 0,
  "metadata": {
    "colab": {
      "provenance": [],
      "authorship_tag": "ABX9TyP4lWC7R5w5uQ2hRFd0z4LC",
      "include_colab_link": true
    },
    "kernelspec": {
      "name": "python3",
      "display_name": "Python 3"
    },
    "language_info": {
      "name": "python"
    }
  },
  "cells": [
    {
      "cell_type": "markdown",
      "metadata": {
        "id": "view-in-github",
        "colab_type": "text"
      },
      "source": [
        "<a href=\"https://colab.research.google.com/github/munira1413/Masar-/blob/main/Quiz_1.ipynb\" target=\"_parent\"><img src=\"https://colab.research.google.com/assets/colab-badge.svg\" alt=\"Open In Colab\"/></a>"
      ]
    },
    {
      "cell_type": "code",
      "execution_count": 2,
      "metadata": {
        "colab": {
          "base_uri": "https://localhost:8080/"
        },
        "id": "iB7FGlIb5IAH",
        "outputId": "93c605f3-7e66-4380-9624-fde38530bbe9"
      },
      "outputs": [
        {
          "output_type": "stream",
          "name": "stdout",
          "text": [
            "[0, 1]\n"
          ]
        }
      ],
      "source": [
        "from itertools import combinations\n",
        "import numpy as np\n",
        "\n",
        "N=9\n",
        "# مصفوفة الأرقام\n",
        "nums = np.array([2,7,11,15])\n",
        "\n",
        "#عرفنا قائمة بجميع المجموعات الممكنة من رقمين\n",
        "combs = [i for i in combinations(nums,2)]\n",
        "\n",
        "#جمع رقمين\n",
        "sums = np.sum(combs, axis=1)\n",
        "\n",
        "# إيجاد ال اندكس للمجموع\n",
        "good_comb = np.where(sums==N)[0][0]\n",
        "\n",
        "#بحث في الفهارس الموجودة في قائمتك\n",
        "indices_sum_to_N = [np.where(nums==i)[0][0] for i in combs[good_comb]]\n",
        "#جملة الطباعة\n",
        "print(indices_sum_to_N)\n",
        "\n"
      ]
    }
  ]
}